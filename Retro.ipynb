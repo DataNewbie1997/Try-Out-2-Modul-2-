{
 "metadata": {
  "language_info": {
   "codemirror_mode": {
    "name": "ipython",
    "version": 3
   },
   "file_extension": ".py",
   "mimetype": "text/x-python",
   "name": "python",
   "nbconvert_exporter": "python",
   "pygments_lexer": "ipython3",
   "version": "3.9.0"
  },
  "orig_nbformat": 2,
  "kernelspec": {
   "name": "python390jvsc74a57bd0f2328d14cb022733d959e9900ce1a07f7e432ee54d0c205324b3a5efb27b2e84",
   "display_name": "Python 3.9.0 64-bit"
  },
  "metadata": {
   "interpreter": {
    "hash": "f2328d14cb022733d959e9900ce1a07f7e432ee54d0c205324b3a5efb27b2e84"
   }
  }
 },
 "nbformat": 4,
 "nbformat_minor": 2,
 "cells": [
  {
   "cell_type": "code",
   "execution_count": 16,
   "metadata": {},
   "outputs": [],
   "source": [
    "import mysql.connector\n",
    "import pandas as pd"
   ]
  },
  {
   "cell_type": "code",
   "execution_count": 58,
   "metadata": {},
   "outputs": [],
   "source": [
    "mydb = mysql.connector.connect(\n",
    "    host = 'localhost',\n",
    "    user = 'root',\n",
    "    passwd = 'Belajardatascience2021!',\n",
    "    database = 'retrowheels')"
   ]
  },
  {
   "cell_type": "code",
   "execution_count": 59,
   "metadata": {},
   "outputs": [
    {
     "output_type": "execute_result",
     "data": {
      "text/plain": [
       "            city  count(employeeNumber)\n",
       "0  San Francisco                      6\n",
       "1         Boston                      2\n",
       "2            NYC                      2\n",
       "3          Paris                      5\n",
       "4          Tokyo                      2"
      ],
      "text/html": "<div>\n<style scoped>\n    .dataframe tbody tr th:only-of-type {\n        vertical-align: middle;\n    }\n\n    .dataframe tbody tr th {\n        vertical-align: top;\n    }\n\n    .dataframe thead th {\n        text-align: right;\n    }\n</style>\n<table border=\"1\" class=\"dataframe\">\n  <thead>\n    <tr style=\"text-align: right;\">\n      <th></th>\n      <th>city</th>\n      <th>count(employeeNumber)</th>\n    </tr>\n  </thead>\n  <tbody>\n    <tr>\n      <th>0</th>\n      <td>San Francisco</td>\n      <td>6</td>\n    </tr>\n    <tr>\n      <th>1</th>\n      <td>Boston</td>\n      <td>2</td>\n    </tr>\n    <tr>\n      <th>2</th>\n      <td>NYC</td>\n      <td>2</td>\n    </tr>\n    <tr>\n      <th>3</th>\n      <td>Paris</td>\n      <td>5</td>\n    </tr>\n    <tr>\n      <th>4</th>\n      <td>Tokyo</td>\n      <td>2</td>\n    </tr>\n  </tbody>\n</table>\n</div>"
     },
     "metadata": {},
     "execution_count": 59
    }
   ],
   "source": [
    "mycursor = mydb.cursor()\n",
    "\n",
    "query1 = 'select offices.city, count(employeeNumber) from offices, employees where employees.officeCode = offices.officeCode group by offices.city'\n",
    "\n",
    "mycursor.execute(query1)\n",
    "\n",
    "result = mycursor.fetchall()\n",
    "\n",
    "df = pd.DataFrame(result, columns = mycursor.column_names)\n",
    "df.head()"
   ]
  },
  {
   "cell_type": "code",
   "execution_count": 60,
   "metadata": {},
   "outputs": [
    {
     "output_type": "execute_result",
     "data": {
      "text/plain": [
       "   ProductLineNum  ProductNumber\n",
       "0               7            110"
      ],
      "text/html": "<div>\n<style scoped>\n    .dataframe tbody tr th:only-of-type {\n        vertical-align: middle;\n    }\n\n    .dataframe tbody tr th {\n        vertical-align: top;\n    }\n\n    .dataframe thead th {\n        text-align: right;\n    }\n</style>\n<table border=\"1\" class=\"dataframe\">\n  <thead>\n    <tr style=\"text-align: right;\">\n      <th></th>\n      <th>ProductLineNum</th>\n      <th>ProductNumber</th>\n    </tr>\n  </thead>\n  <tbody>\n    <tr>\n      <th>0</th>\n      <td>7</td>\n      <td>110</td>\n    </tr>\n  </tbody>\n</table>\n</div>"
     },
     "metadata": {},
     "execution_count": 60
    }
   ],
   "source": [
    "query2 = 'SELECT (SELECT COUNT(productLine) from productLines) as ProductLineNum, (SELECT COUNT(productCode) FROM products) as ProductNumber'\n",
    "\n",
    "mycursor.execute(query2)\n",
    "\n",
    "result = mycursor.fetchall()\n",
    "\n",
    "df = pd.DataFrame(result, columns = mycursor.column_names)\n",
    "df.head()"
   ]
  },
  {
   "cell_type": "code",
   "execution_count": 62,
   "metadata": {},
   "outputs": [
    {
     "output_type": "execute_result",
     "data": {
      "text/plain": [
       "  productCode                              productName   productLine  \\\n",
       "0    S18_3232              1992 Ferrari 360 Spider red  Classic Cars   \n",
       "1    S18_1342                     1937 Lincoln Berline  Vintage Cars   \n",
       "2   S700_4002                American Airlines: MD-11S        Planes   \n",
       "3    S18_3856  1941 Chevrolet Special Deluxe Cabriolet  Vintage Cars   \n",
       "4    S50_1341             1930 Buick Marquette Phaeton  Vintage Cars   \n",
       "\n",
       "  orderQuantity  \n",
       "0          1808  \n",
       "1          1111  \n",
       "2          1085  \n",
       "3          1076  \n",
       "4          1074  "
      ],
      "text/html": "<div>\n<style scoped>\n    .dataframe tbody tr th:only-of-type {\n        vertical-align: middle;\n    }\n\n    .dataframe tbody tr th {\n        vertical-align: top;\n    }\n\n    .dataframe thead th {\n        text-align: right;\n    }\n</style>\n<table border=\"1\" class=\"dataframe\">\n  <thead>\n    <tr style=\"text-align: right;\">\n      <th></th>\n      <th>productCode</th>\n      <th>productName</th>\n      <th>productLine</th>\n      <th>orderQuantity</th>\n    </tr>\n  </thead>\n  <tbody>\n    <tr>\n      <th>0</th>\n      <td>S18_3232</td>\n      <td>1992 Ferrari 360 Spider red</td>\n      <td>Classic Cars</td>\n      <td>1808</td>\n    </tr>\n    <tr>\n      <th>1</th>\n      <td>S18_1342</td>\n      <td>1937 Lincoln Berline</td>\n      <td>Vintage Cars</td>\n      <td>1111</td>\n    </tr>\n    <tr>\n      <th>2</th>\n      <td>S700_4002</td>\n      <td>American Airlines: MD-11S</td>\n      <td>Planes</td>\n      <td>1085</td>\n    </tr>\n    <tr>\n      <th>3</th>\n      <td>S18_3856</td>\n      <td>1941 Chevrolet Special Deluxe Cabriolet</td>\n      <td>Vintage Cars</td>\n      <td>1076</td>\n    </tr>\n    <tr>\n      <th>4</th>\n      <td>S50_1341</td>\n      <td>1930 Buick Marquette Phaeton</td>\n      <td>Vintage Cars</td>\n      <td>1074</td>\n    </tr>\n  </tbody>\n</table>\n</div>"
     },
     "metadata": {},
     "execution_count": 62
    }
   ],
   "source": [
    "query3 = 'SELECT orderdetails.productCode, products.productName, products.productLine, SUM(quantityOrdered) as orderQuantity from orderdetails,products where orderdetails.productCode = products.productCode GROUP BY orderdetails.productCode ORDER BY SUM(quantityOrdered) desc LIMIT 5'\n",
    "mycursor.execute(query3)\n",
    "\n",
    "result = mycursor.fetchall()\n",
    "\n",
    "df = pd.DataFrame(result, columns = mycursor.column_names)\n",
    "df.head()"
   ]
  },
  {
   "cell_type": "code",
   "execution_count": 85,
   "metadata": {},
   "outputs": [
    {
     "output_type": "execute_result",
     "data": {
      "text/plain": [
       "                   customerName          city      country totalOrder\n",
       "0        Euro+ Shopping Channel        Madrid        Spain        308\n",
       "1               Vida Sport, Ltd        Genève  Switzerland         79\n",
       "2  Motor Mint Distributors Inc.  Philadelphia          USA         73\n",
       "3            Muscle Machine Inc           NYC          USA         70\n",
       "4       Oulu Toy Supplies, Inc.          Oulu      Finland         68"
      ],
      "text/html": "<div>\n<style scoped>\n    .dataframe tbody tr th:only-of-type {\n        vertical-align: middle;\n    }\n\n    .dataframe tbody tr th {\n        vertical-align: top;\n    }\n\n    .dataframe thead th {\n        text-align: right;\n    }\n</style>\n<table border=\"1\" class=\"dataframe\">\n  <thead>\n    <tr style=\"text-align: right;\">\n      <th></th>\n      <th>customerName</th>\n      <th>city</th>\n      <th>country</th>\n      <th>totalOrder</th>\n    </tr>\n  </thead>\n  <tbody>\n    <tr>\n      <th>0</th>\n      <td>Euro+ Shopping Channel</td>\n      <td>Madrid</td>\n      <td>Spain</td>\n      <td>308</td>\n    </tr>\n    <tr>\n      <th>1</th>\n      <td>Vida Sport, Ltd</td>\n      <td>Genève</td>\n      <td>Switzerland</td>\n      <td>79</td>\n    </tr>\n    <tr>\n      <th>2</th>\n      <td>Motor Mint Distributors Inc.</td>\n      <td>Philadelphia</td>\n      <td>USA</td>\n      <td>73</td>\n    </tr>\n    <tr>\n      <th>3</th>\n      <td>Muscle Machine Inc</td>\n      <td>NYC</td>\n      <td>USA</td>\n      <td>70</td>\n    </tr>\n    <tr>\n      <th>4</th>\n      <td>Oulu Toy Supplies, Inc.</td>\n      <td>Oulu</td>\n      <td>Finland</td>\n      <td>68</td>\n    </tr>\n  </tbody>\n</table>\n</div>"
     },
     "metadata": {},
     "execution_count": 85
    }
   ],
   "source": [
    "query4 = '''\n",
    "select customerName, city, country, sum(quantityOrdered) as totalOrder from customers \n",
    "join orders using (customerNumber)\n",
    "join orderdetails using (orderNumber)\n",
    "where productCode= 'S18_3232'\n",
    "group by customerName\n",
    "order by totalOrder desc\n",
    "limit 5\n",
    "'''\n",
    "mycursor.execute(query4)\n",
    "\n",
    "result = mycursor.fetchall()\n",
    "\n",
    "df = pd.DataFrame(result, columns = mycursor.column_names)\n",
    "df"
   ]
  },
  {
   "cell_type": "code",
   "execution_count": 86,
   "metadata": {},
   "outputs": [
    {
     "output_type": "execute_result",
     "data": {
      "text/plain": [
       "   productCode                              productName   productLine  \\\n",
       "0     S24_4258                    1936 Chrysler Airflow  Vintage Cars   \n",
       "1     S18_2957                       1934 Ford V8 Coupe  Vintage Cars   \n",
       "2     S18_3320                 1917 Maxwell Touring Car  Vintage Cars   \n",
       "3     S18_4668                  1939 Cadillac Limousine  Vintage Cars   \n",
       "4     S18_4522                      1904 Buick Runabout  Vintage Cars   \n",
       "5     S24_3151         1912 Ford Model T Delivery Wagon  Vintage Cars   \n",
       "6     S18_1749                 1917 Grand Touring Sedan  Vintage Cars   \n",
       "7     S18_2949              1913 Ford Model T Speedster  Vintage Cars   \n",
       "8     S50_1341             1930 Buick Marquette Phaeton  Vintage Cars   \n",
       "9     S18_3856  1941 Chevrolet Special Deluxe Cabriolet  Vintage Cars   \n",
       "10    S18_1342                     1937 Lincoln Berline  Vintage Cars   \n",
       "\n",
       "   avg(quantityOrdered)  \n",
       "0               35.1071  \n",
       "1               35.1786  \n",
       "2               35.4286  \n",
       "3               35.5357  \n",
       "4               36.6667  \n",
       "5               36.7037  \n",
       "6               36.7200  \n",
       "7               37.0714  \n",
       "8               38.3571  \n",
       "9               38.4286  \n",
       "10              39.6786  "
      ],
      "text/html": "<div>\n<style scoped>\n    .dataframe tbody tr th:only-of-type {\n        vertical-align: middle;\n    }\n\n    .dataframe tbody tr th {\n        vertical-align: top;\n    }\n\n    .dataframe thead th {\n        text-align: right;\n    }\n</style>\n<table border=\"1\" class=\"dataframe\">\n  <thead>\n    <tr style=\"text-align: right;\">\n      <th></th>\n      <th>productCode</th>\n      <th>productName</th>\n      <th>productLine</th>\n      <th>avg(quantityOrdered)</th>\n    </tr>\n  </thead>\n  <tbody>\n    <tr>\n      <th>0</th>\n      <td>S24_4258</td>\n      <td>1936 Chrysler Airflow</td>\n      <td>Vintage Cars</td>\n      <td>35.1071</td>\n    </tr>\n    <tr>\n      <th>1</th>\n      <td>S18_2957</td>\n      <td>1934 Ford V8 Coupe</td>\n      <td>Vintage Cars</td>\n      <td>35.1786</td>\n    </tr>\n    <tr>\n      <th>2</th>\n      <td>S18_3320</td>\n      <td>1917 Maxwell Touring Car</td>\n      <td>Vintage Cars</td>\n      <td>35.4286</td>\n    </tr>\n    <tr>\n      <th>3</th>\n      <td>S18_4668</td>\n      <td>1939 Cadillac Limousine</td>\n      <td>Vintage Cars</td>\n      <td>35.5357</td>\n    </tr>\n    <tr>\n      <th>4</th>\n      <td>S18_4522</td>\n      <td>1904 Buick Runabout</td>\n      <td>Vintage Cars</td>\n      <td>36.6667</td>\n    </tr>\n    <tr>\n      <th>5</th>\n      <td>S24_3151</td>\n      <td>1912 Ford Model T Delivery Wagon</td>\n      <td>Vintage Cars</td>\n      <td>36.7037</td>\n    </tr>\n    <tr>\n      <th>6</th>\n      <td>S18_1749</td>\n      <td>1917 Grand Touring Sedan</td>\n      <td>Vintage Cars</td>\n      <td>36.7200</td>\n    </tr>\n    <tr>\n      <th>7</th>\n      <td>S18_2949</td>\n      <td>1913 Ford Model T Speedster</td>\n      <td>Vintage Cars</td>\n      <td>37.0714</td>\n    </tr>\n    <tr>\n      <th>8</th>\n      <td>S50_1341</td>\n      <td>1930 Buick Marquette Phaeton</td>\n      <td>Vintage Cars</td>\n      <td>38.3571</td>\n    </tr>\n    <tr>\n      <th>9</th>\n      <td>S18_3856</td>\n      <td>1941 Chevrolet Special Deluxe Cabriolet</td>\n      <td>Vintage Cars</td>\n      <td>38.4286</td>\n    </tr>\n    <tr>\n      <th>10</th>\n      <td>S18_1342</td>\n      <td>1937 Lincoln Berline</td>\n      <td>Vintage Cars</td>\n      <td>39.6786</td>\n    </tr>\n  </tbody>\n</table>\n</div>"
     },
     "metadata": {},
     "execution_count": 86
    }
   ],
   "source": [
    "query5 = '''\n",
    "select productCode, productName, productLine, avg(quantityOrdered) from orderdetails\n",
    "join products using (productCode)\n",
    "where productLine= 'Vintage Cars'\n",
    "group by productName\n",
    "having avg(quantityOrdered)> (select avg(quantityOrdered) from orderdetails\n",
    "join products using (productCode) where productLine= 'Vintage Cars')\n",
    "order by avg(quantityOrdered);\n",
    "'''\n",
    "mycursor.execute(query5)\n",
    "\n",
    "result = mycursor.fetchall()\n",
    "\n",
    "df = pd.DataFrame(result, columns = mycursor.column_names)\n",
    "df"
   ]
  },
  {
   "cell_type": "code",
   "execution_count": null,
   "metadata": {},
   "outputs": [],
   "source": []
  }
 ]
}